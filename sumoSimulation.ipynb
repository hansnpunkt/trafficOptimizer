{
 "cells": [
  {
   "cell_type": "code",
   "execution_count": 1,
   "metadata": {},
   "outputs": [],
   "source": [
    "import os, sys\n",
    "from scipy.optimize import minimize\n",
    "import scipy.optimize as optimize\n",
    "import subprocess\n",
    "import pandas as pd\n",
    "import numpy as np\n",
    "import copy\n",
    "\n",
    "if 'SUMO_HOME' in os.environ:\n",
    "    tools = os.path.join(os.environ['SUMO_HOME'], 'tools')     \n",
    "    sys.path.append(tools)\n",
    "else:\n",
    "    sys.exit(\"please declare environment variable 'SUMO_HOME'\")\n",
    "\n",
    "import traci\n",
    "import traci.constants as tc    \n",
    "import socket\n",
    "\n",
    "def find_free_port():\n",
    "    s = socket.socket()\n",
    "    s.bind(('', 0))            # Bind to a free port provided by the host.\n",
    "    return s.getsockname()[1]  # Return the port number assigned."
   ]
  },
  {
   "cell_type": "code",
   "execution_count": 2,
   "metadata": {},
   "outputs": [],
   "source": [
    "# some helper functions\n",
    "\n",
    "# get sum of all previous list lengths\n",
    "def get_curr_sum(x):\n",
    "    if x <= 0:\n",
    "        sum_len = 0\n",
    "    else:\n",
    "        sum_len = 0\n",
    "        for l in range(x):\n",
    "            sum_len += len(lst[l])\n",
    "    return sum_len\n",
    "\n",
    "# convert list to array \n",
    "\n",
    "def list_to_array(input_list):\n",
    "    flat_list = [item for sublist in input_list for item in sublist]\n",
    "    flat_list_array = np.asarray(flat_list)\n",
    "    return flat_list_array\n",
    "\n",
    "# convert array to list\n",
    "\n",
    "def array_to_list(old_list, array):\n",
    "\n",
    "    temp_lst = copy.deepcopy(old_list)\n",
    "    \n",
    "    for l in range(len(temp_lst)):\n",
    "        temp_lst[l] = array[get_curr_sum(l):get_curr_sum(l+1)] + 1\n",
    "    return temp_lst\n",
    "\n",
    "def avg_edge_traveltime():\n",
    "    travel_time_sum = 0\n",
    "    for j in range(len(all_edge_IDs)):\n",
    "        #travel_time_sum += traci.edge.getTraveltime(all_edge_IDs[j])\n",
    "        travel_time_sum += traci.edge.getWaitingTime(all_edge_IDs[j]) \n",
    "    return travel_time_sum\n",
    "\n",
    "def objective_function(phase_array):\n",
    "    # simulate\n",
    "    steps = 1000\n",
    "    traci.load(sumoRldCmd)\n",
    "    loss = simulate(steps, phase_array)/steps\n",
    "    print(phase_array)\n",
    "    return loss"
   ]
  },
  {
   "cell_type": "code",
   "execution_count": 3,
   "metadata": {},
   "outputs": [],
   "source": [
    "# run me once to start sumo server in seperate command window\n",
    "simFolder = '2020-09-11-14-47-10'\n",
    "scaleFactor = 4\n",
    "port = find_free_port()\n",
    "sumoBinary = \"sumo\"\n",
    "emissFile = \"emissions.xml\"\n",
    "tripFile = \"all_trips.xml\"\n",
    "sumoServerCmd = [sumoBinary, \"--remote-port\", str(port),\"-c\", \"/usr/local/Cellar/sumo/1.6.0/share/sumo/tools/\"+ simFolder + \"/osm.sumocfg\", \"--emission-output\", emissFile, \"--tripinfo-output\", tripFile, \"--scale\", str(scaleFactor)]\n",
    "sumoCmd = [sumoBinary,\"-c\", \"/usr/local/Cellar/sumo/1.6.0/share/sumo/tools/\"+ simFolder + \"/osm.sumocfg\", \"--emission-output\", emissFile, \"--tripinfo-output\", tripFile, \"--scale\", str(scaleFactor)]\n",
    "sumoRldCmd = [\"-c\", \"/usr/local/Cellar/sumo/1.6.0/share/sumo/tools/\"+ simFolder + \"/osm.sumocfg\", \"--emission-output\", emissFile, \"--tripinfo-output\", tripFile, \"--scale\", str(scaleFactor)]"
   ]
  },
  {
   "cell_type": "code",
   "execution_count": 4,
   "metadata": {},
   "outputs": [
    {
     "name": "stdout",
     "output_type": "stream",
     "text": [
      "sumo --remote-port 55439 -c /usr/local/Cellar/sumo/1.6.0/share/sumo/tools/2020-09-11-14-47-10/osm.sumocfg --emission-output emissions.xml --tripinfo-output all_trips.xml --scale 4\n"
     ]
    }
   ],
   "source": [
    "#os.system(' '.join(sumoServerCmd))\n",
    "print(' '.join(sumoServerCmd))"
   ]
  },
  {
   "cell_type": "code",
   "execution_count": null,
   "metadata": {},
   "outputs": [],
   "source": [
    "# convert to csv\n",
    "#emissCSV = os.path.splitext(emissFile)[0] + \".csv\"\n",
    "#xmlCmd = [\"/usr/local/Cellar/sumo/1.6.0/share/sumo/tools/xml/xml2csv.py\", emissFile, \"-s\", \",\" ,\"-o\", emissCSV] \n",
    "#subprocess.call(' '.join(xmlCmd), shell=True)"
   ]
  },
  {
   "cell_type": "code",
   "execution_count": null,
   "metadata": {},
   "outputs": [],
   "source": [
    "# load with pandas \n",
    "#emiss_df = pd.read_csv(emissCSV)"
   ]
  },
  {
   "cell_type": "code",
   "execution_count": null,
   "metadata": {},
   "outputs": [],
   "source": [
    "# convert to csv\n",
    "#tripCSV = os.path.splitext(tripFile)[0] + \".csv\"\n",
    "#xmlCmd = [\"/usr/local/Cellar/sumo/1.6.0/share/sumo/tools/xml/xml2csv.py\",tools + \"/\" + tripFile, \"-s\", \",\" ,\"-o\", tools + \"/\" + tripCSV] \n",
    "#subprocess.call(' '.join(xmlCmd), shell=True)"
   ]
  },
  {
   "cell_type": "code",
   "execution_count": null,
   "metadata": {},
   "outputs": [],
   "source": [
    "# load with pandas \n",
    "#trip_df = pd.read_csv(tools + \"/\" + tripCSV)"
   ]
  },
  {
   "cell_type": "code",
   "execution_count": null,
   "metadata": {},
   "outputs": [],
   "source": [
    "#np.nanmean(trip_df.tripinfo_timeLoss)"
   ]
  },
  {
   "cell_type": "markdown",
   "metadata": {},
   "source": [
    "                                        ##### Optimization #####"
   ]
  },
  {
   "cell_type": "code",
   "execution_count": 5,
   "metadata": {},
   "outputs": [],
   "source": [
    "# Connect to to traci\n",
    "traci.init(port)\n",
    "\n",
    "# Get traffic lights and Phases\n",
    "all_traffic_lights = traci.trafficlight.getIDList()\n",
    "number_of_traffic_lights = traci.trafficlight.getIDCount()\n",
    "all_edge_IDs = traci.edge.getIDList()\n",
    "\n",
    "# create empty nested list\n",
    "lst = [[] for _ in range(number_of_traffic_lights)]\n",
    "# fill with phase durations    \n",
    "for i in range(number_of_traffic_lights):\n",
    "    #print(traci.trafficlight.getCompleteRedYellowGreenDefinition(all_traffic_lights[i]))\n",
    "    temp = traci.trafficlight.getCompleteRedYellowGreenDefinition(all_traffic_lights[i])\n",
    "    for j in range(len(temp[0].getPhases())):\n",
    "        lst[i].append(temp[0].getPhases()[j].duration)\n",
    "\n",
    "initial_phase_duration_array = list_to_array(lst)"
   ]
  },
  {
   "cell_type": "code",
   "execution_count": 6,
   "metadata": {},
   "outputs": [],
   "source": [
    "def simulate(SimulationSteps, phase_duration_array):\n",
    "    phase_duration_list = array_to_list(lst, phase_duration_array)\n",
    "    step = 0\n",
    "    \n",
    "    traci.simulationStep()\n",
    "    for i in range(number_of_traffic_lights):\n",
    "        temp = traci.trafficlight.getCompleteRedYellowGreenDefinition(all_traffic_lights[i])\n",
    "        for k in range(len(phase_duration_list[i])):\n",
    "            temp[0].getPhases()[k].duration = phase_duration_list[i][k]\n",
    "            if k == traci.trafficlight.getPhase(all_traffic_lights[i]):\n",
    "                traci.trafficlight.setPhaseDuration(all_traffic_lights[i],phase_duration_list[i][k])\n",
    "            #print(temp[0].getPhases()[k].duration)\n",
    "            \n",
    "        # set traffic light to new phase durations\n",
    "        traci.trafficlight.setCompleteRedYellowGreenDefinition(all_traffic_lights[i], temp[0])\n",
    "        # set to phase 1\n",
    "        #traci.trafficlight.setPhase(all_traffic_lights[i], 0)\n",
    "    \n",
    "    # Simulate \n",
    "    \n",
    "    #junctionID = all_traffic_lights[0]\n",
    "    #traci.junction.subscribeContext(junctionID, tc.CMD_GET_VEHICLE_VARIABLE, 1000000, [tc.VAR_SPEED, tc.VAR_ALLOWED_SPEED])\n",
    "\n",
    "    #stepLength = traci.simulation.getDeltaT() \n",
    "    #timeLoss = 0\n",
    "    \n",
    "    #while step < SimulationSteps:\n",
    "    while traci.simulation.getMinExpectedNumber() > 0:\n",
    "    \n",
    "        traci.simulationStep()\n",
    "        #scResults = traci.junction.getContextSubscriptionResults(junctionID)\n",
    "        #halting = 0\n",
    "        #if scResults:\n",
    "        #    relSpeeds = [d[tc.VAR_SPEED] / d[tc.VAR_ALLOWED_SPEED] for d in scResults.values()]\n",
    "            # compute values corresponding to summary-output\n",
    "        #    running = len(relSpeeds)\n",
    "        #    halting = len([1 for d in scResults.values() if d[tc.VAR_SPEED] < 0.1])\n",
    "        #    meanSpeedRelative = sum(relSpeeds) / running\n",
    "        #    timeLoss += (1 - meanSpeedRelative) * running * stepLength\n",
    "        #print(traci.simulation.getTime(), timeLoss, halting)\n",
    "        \n",
    "        \n",
    "        step += 1\n",
    "        #print(traci.trafficlight.getPhase(all_traffic_lights[i]))\n",
    "    #print(traci.simulation.getTime(), timeLoss, halting)\n",
    "    SimulTime = traci.simulation.getTime()\n",
    "    print(SimulTime)\n",
    "    del temp\n",
    "    \n",
    "    #return float(timeLoss) \n",
    "    return float(SimulTime)"
   ]
  },
  {
   "cell_type": "code",
   "execution_count": 8,
   "metadata": {},
   "outputs": [
    {
     "name": "stdout",
     "output_type": "stream",
     "text": [
      "[[30.3015899  10.09340618 13.94317051 15.85925336  6.00424146 26.84609814\n",
      "  12.7783576   8.17428373 11.23624494 13.14314762]]\n"
     ]
    }
   ],
   "source": [
    "num = np.random.rand(len(initial_phase_duration_array),1)\n",
    "new_duration = initial_phase_duration_array + np.transpose(num)*10\n",
    "print(new_duration)"
   ]
  },
  {
   "cell_type": "code",
   "execution_count": 10,
   "metadata": {},
   "outputs": [],
   "source": [
    "# approx jacobian\n",
    "fprime = lambda x: optimize.approx_fprime(x, objective_function, 0.01)"
   ]
  },
  {
   "cell_type": "code",
   "execution_count": 11,
   "metadata": {
    "scrolled": false
   },
   "outputs": [
    {
     "name": "stdout",
     "output_type": "stream",
     "text": [
      "5098.0\n",
      "[30.3015899  10.09340618 13.94317051 15.85925336  6.00424146 26.84609814\n",
      " 12.7783576   8.17428373 11.23624494 13.14314762]\n",
      "5098.0\n",
      "[30.3015899  10.09340618 13.94317051 15.85925336  6.00424146 26.84609814\n",
      " 12.7783576   8.17428373 11.23624494 13.14314762]\n",
      "5098.0\n",
      "[30.3115899  10.09340618 13.94317051 15.85925336  6.00424146 26.84609814\n",
      " 12.7783576   8.17428373 11.23624494 13.14314762]\n",
      "5098.0\n",
      "[30.3015899  10.10340618 13.94317051 15.85925336  6.00424146 26.84609814\n",
      " 12.7783576   8.17428373 11.23624494 13.14314762]\n",
      "5098.0\n",
      "[30.3015899  10.09340618 13.95317051 15.85925336  6.00424146 26.84609814\n",
      " 12.7783576   8.17428373 11.23624494 13.14314762]\n",
      "5098.0\n",
      "[30.3015899  10.09340618 13.94317051 15.86925336  6.00424146 26.84609814\n",
      " 12.7783576   8.17428373 11.23624494 13.14314762]\n",
      "5098.0\n",
      "[30.3015899  10.09340618 13.94317051 15.85925336  6.01424146 26.84609814\n",
      " 12.7783576   8.17428373 11.23624494 13.14314762]\n",
      "5098.0\n",
      "[30.3015899  10.09340618 13.94317051 15.85925336  6.00424146 26.85609814\n",
      " 12.7783576   8.17428373 11.23624494 13.14314762]\n",
      "5098.0\n",
      "[30.3015899  10.09340618 13.94317051 15.85925336  6.00424146 26.84609814\n",
      " 12.7883576   8.17428373 11.23624494 13.14314762]\n",
      "5098.0\n",
      "[30.3015899  10.09340618 13.94317051 15.85925336  6.00424146 26.84609814\n",
      " 12.7783576   8.18428373 11.23624494 13.14314762]\n",
      "5098.0\n",
      "[30.3015899  10.09340618 13.94317051 15.85925336  6.00424146 26.84609814\n",
      " 12.7783576   8.17428373 11.24624494 13.14314762]\n",
      "5098.0\n",
      "[30.3015899  10.09340618 13.94317051 15.85925336  6.00424146 26.84609814\n",
      " 12.7783576   8.17428373 11.23624494 13.15314762]\n",
      "5098.0\n",
      "[30.3015899  10.09340618 13.94317051 15.85925336  6.00424146 26.84609814\n",
      " 12.7783576   8.17428373 11.23624494 13.14314762]\n",
      "5098.0\n",
      "[30.3015899  10.09340618 13.94317051 15.85925336  6.00424146 26.84609814\n",
      " 12.7783576   8.17428373 11.23624494 13.14314762]\n",
      "5098.0\n",
      "[30.3115899  10.09340618 13.94317051 15.85925336  6.00424146 26.84609814\n",
      " 12.7783576   8.17428373 11.23624494 13.14314762]\n",
      "5098.0\n",
      "[30.3015899  10.10340618 13.94317051 15.85925336  6.00424146 26.84609814\n",
      " 12.7783576   8.17428373 11.23624494 13.14314762]\n",
      "5098.0\n",
      "[30.3015899  10.09340618 13.95317051 15.85925336  6.00424146 26.84609814\n",
      " 12.7783576   8.17428373 11.23624494 13.14314762]\n",
      "5098.0\n",
      "[30.3015899  10.09340618 13.94317051 15.86925336  6.00424146 26.84609814\n",
      " 12.7783576   8.17428373 11.23624494 13.14314762]\n",
      "5098.0\n",
      "[30.3015899  10.09340618 13.94317051 15.85925336  6.01424146 26.84609814\n",
      " 12.7783576   8.17428373 11.23624494 13.14314762]\n",
      "5098.0\n",
      "[30.3015899  10.09340618 13.94317051 15.85925336  6.00424146 26.85609814\n",
      " 12.7783576   8.17428373 11.23624494 13.14314762]\n",
      "5098.0\n",
      "[30.3015899  10.09340618 13.94317051 15.85925336  6.00424146 26.84609814\n",
      " 12.7883576   8.17428373 11.23624494 13.14314762]\n",
      "5098.0\n",
      "[30.3015899  10.09340618 13.94317051 15.85925336  6.00424146 26.84609814\n",
      " 12.7783576   8.18428373 11.23624494 13.14314762]\n",
      "5098.0\n",
      "[30.3015899  10.09340618 13.94317051 15.85925336  6.00424146 26.84609814\n",
      " 12.7783576   8.17428373 11.24624494 13.14314762]\n",
      "5098.0\n",
      "[30.3015899  10.09340618 13.94317051 15.85925336  6.00424146 26.84609814\n",
      " 12.7783576   8.17428373 11.23624494 13.15314762]\n",
      "Optimization terminated successfully.\n",
      "         Current function value: 5.098000\n",
      "         Iterations: 1\n",
      "         Function evaluations: 2\n",
      "         Gradient evaluations: 2\n",
      "         Hessian evaluations: 0\n"
     ]
    }
   ],
   "source": [
    "# Try Newton-CG\n",
    "\n",
    "res = minimize(objective_function, new_duration, method = 'Newton-CG', jac = fprime, options = {'disp' : True, 'eps' : 2})"
   ]
  },
  {
   "cell_type": "code",
   "execution_count": null,
   "metadata": {},
   "outputs": [
    {
     "name": "stdout",
     "output_type": "stream",
     "text": [
      "5014.0\n",
      "[26.  5.  4.  6.  4. 26.  5.  4.  6.  4.]\n",
      "5201.0\n",
      "[28.  5.  4.  6.  4. 26.  5.  4.  6.  4.]\n",
      "5047.0\n",
      "[26.  7.  4.  6.  4. 26.  5.  4.  6.  4.]\n",
      "5049.0\n",
      "[26.  5.  6.  6.  4. 26.  5.  4.  6.  4.]\n",
      "5049.0\n",
      "[26.  5.  4.  8.  4. 26.  5.  4.  6.  4.]\n",
      "5048.0\n",
      "[26.  5.  4.  6.  6. 26.  5.  4.  6.  4.]\n",
      "5046.0\n",
      "[26.  5.  4.  6.  4. 28.  5.  4.  6.  4.]\n",
      "5046.0\n",
      "[26.  5.  4.  6.  4. 26.  7.  4.  6.  4.]\n",
      "5055.0\n",
      "[26.  5.  4.  6.  4. 26.  5.  6.  6.  4.]\n",
      "5055.0\n",
      "[26.  5.  4.  6.  4. 26.  5.  4.  8.  4.]\n",
      "5045.0\n",
      "[26.  5.  4.  6.  4. 26.  5.  4.  6.  6.]\n"
     ]
    }
   ],
   "source": [
    "# Try BFGS\n",
    "\n",
    "res = minimize(objective_function, initial_phase_duration_array, method = 'BFGS', options = {'disp' : True, 'eps' : 2})"
   ]
  },
  {
   "cell_type": "code",
   "execution_count": null,
   "metadata": {},
   "outputs": [],
   "source": [
    "#traci.trafficlight.setPhase(all_traffic_lights[i], 7)\n",
    "traci.trafficlight.getCompleteRedYellowGreenDefinition(all_traffic_lights[0])"
   ]
  },
  {
   "cell_type": "code",
   "execution_count": null,
   "metadata": {},
   "outputs": [],
   "source": [
    "# Result\n",
    "\n",
    "res"
   ]
  },
  {
   "cell_type": "code",
   "execution_count": null,
   "metadata": {},
   "outputs": [],
   "source": [
    "traci.simulation.saveState('osm_net_save.xml')"
   ]
  },
  {
   "cell_type": "code",
   "execution_count": null,
   "metadata": {},
   "outputs": [],
   "source": [
    "traci.close()"
   ]
  },
  {
   "cell_type": "code",
   "execution_count": null,
   "metadata": {},
   "outputs": [],
   "source": [
    "# get initial travel time\n",
    "\n",
    "traci.load(sumoRldCmd)\n",
    "simulate(100, initial_phase_duration_array)\n",
    "#print(avg_edge_traveltime())\n"
   ]
  },
  {
   "cell_type": "code",
   "execution_count": null,
   "metadata": {},
   "outputs": [],
   "source": [
    "# new phase duration resimulate\n",
    "\n",
    "traci.load(sumoRldCmd)\n",
    "num = np.random.rand(len(initial_phase_duration_array),1)\n",
    "new_duration = initial_phase_duration_array + np.transpose(num)*60\n",
    "simulate(100, list_to_array(new_duration))\n",
    "#print(avg_edge_traveltime())\n",
    "#traci.load(sumoRldCmd)"
   ]
  },
  {
   "cell_type": "code",
   "execution_count": null,
   "metadata": {},
   "outputs": [],
   "source": [
    "#traci.load(sumoRldCmd)\n",
    "simulate(100, initial_phase_duration_array)"
   ]
  },
  {
   "cell_type": "code",
   "execution_count": null,
   "metadata": {},
   "outputs": [],
   "source": [
    "num = np.random.rand(len(initial_phase_duration_array),1)\n",
    "new_duration = initial_phase_duration_array + np.transpose(num)*1000\n",
    "print(new_duration)"
   ]
  },
  {
   "cell_type": "code",
   "execution_count": null,
   "metadata": {},
   "outputs": [],
   "source": [
    "traci.load(sumoRldCmd)\n",
    "simulate(100, new_duration)"
   ]
  },
  {
   "cell_type": "code",
   "execution_count": null,
   "metadata": {},
   "outputs": [],
   "source": [
    "traci.close()"
   ]
  },
  {
   "cell_type": "code",
   "execution_count": null,
   "metadata": {},
   "outputs": [],
   "source": []
  }
 ],
 "metadata": {
  "kernelspec": {
   "display_name": "Python 3",
   "language": "python",
   "name": "python3"
  },
  "language_info": {
   "codemirror_mode": {
    "name": "ipython",
    "version": 3
   },
   "file_extension": ".py",
   "mimetype": "text/x-python",
   "name": "python",
   "nbconvert_exporter": "python",
   "pygments_lexer": "ipython3",
   "version": "3.7.4"
  }
 },
 "nbformat": 4,
 "nbformat_minor": 2
}
